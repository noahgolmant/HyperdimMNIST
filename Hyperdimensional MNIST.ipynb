{
 "cells": [
  {
   "cell_type": "markdown",
   "metadata": {},
   "source": [
    "### MNIST using really basic hyperdimensional computing\n",
    "\n",
    "The premise is that in a high-dimensional space, two vectors drawn at random are (nearly) orthogonal with high probability.\n",
    "\n",
    "First load the data:\n",
    "\n",
    "To turn an MNIST digit into a hypervector, I create a random projection and map each digit into the high-dimensional space."
   ]
  },
  {
   "cell_type": "code",
   "execution_count": 17,
   "metadata": {
    "collapsed": true
   },
   "outputs": [],
   "source": [
    "import numpy as np\n",
    "from mnist import MNIST\n",
    "from sklearn.cross_validation import train_test_split\n",
    "from sklearn.metrics.pairwise import cosine_similarity\n",
    "from sklearn.metrics import accuracy_score\n",
    "\n",
    "def shuffle(X, y):\n",
    "    permutation = np.arange(X.shape[0])\n",
    "    np.random.shuffle(permutation)\n",
    "    return X[permutation], y[permutation]\n",
    "\n",
    "def load_dataset():\n",
    "    mndata = MNIST('./data/')\n",
    "    X_train, labels_train = map(np.array, mndata.load_training())\n",
    "    X_test, _ = map(np.array, mndata.load_testing())\n",
    "    return X_train, labels_train, X_test\n",
    "\n",
    "X_train, labels_train, _ = load_dataset()\n",
    "X_train, labels_train = shuffle(X_train, labels_train)\n",
    "X_train, X_test, y_train, y_test = train_test_split(X_train, labels_train, test_size=0.33)\n",
    "\n",
    "D = 10000 # dimensions in random space\n",
    "IMG_LEN = 28\n",
    "NUM_SAMPLES = X_train.shape[0]"
   ]
  },
  {
   "cell_type": "markdown",
   "metadata": {},
   "source": [
    "Then I create the random projection and transform the images into their hypervectors:"
   ]
  },
  {
   "cell_type": "code",
   "execution_count": 18,
   "metadata": {
    "collapsed": false
   },
   "outputs": [
    {
     "name": "stdout",
     "output_type": "stream",
     "text": [
      "Generating random projection...\n",
      "Projecting images to higher dim space...\n"
     ]
    }
   ],
   "source": [
    "# Create a random map to the high dimensional space\n",
    "print(\"Generating random projection...\")\n",
    "proj = np.random.rand(D, IMG_LEN * IMG_LEN)\n",
    "def get_scene(img, proj):\n",
    "    return np.dot(proj, img)\n",
    "\n",
    "# Transform the image vectors into the hypervectors\n",
    "def get_scenes(images, proj):\n",
    "    return np.dot(images[:NUM_SAMPLES, :], proj.T)\n",
    "\n",
    "print(\"Projecting images to higher dim space...\")\n",
    "X_train = get_scenes(X_train, proj)"
   ]
  },
  {
   "cell_type": "markdown",
   "metadata": {},
   "source": [
    "A digit representation is just the sum of its training vectors in this space."
   ]
  },
  {
   "cell_type": "code",
   "execution_count": 19,
   "metadata": {
    "collapsed": true
   },
   "outputs": [],
   "source": [
    "digit_vectors = np.zeros((10, D))\n",
    "for i in range(NUM_SAMPLES):\n",
    "    digit_vectors[y_train[i]] += X_train[i]\n",
    "digit_vectors = np.array(digit_vectors)\n"
   ]
  },
  {
   "cell_type": "markdown",
   "metadata": {},
   "source": [
    "To classify a digit, just find the closest digit in the hypervector space."
   ]
  },
  {
   "cell_type": "code",
   "execution_count": 20,
   "metadata": {
    "collapsed": true
   },
   "outputs": [],
   "source": [
    "def classify(images, digit_vectors):\n",
    "    similarities = cosine_similarity(images, digit_vectors)\n",
    "    classifications = np.argmax(similarities, axis=1)\n",
    "    return classifications"
   ]
  },
  {
   "cell_type": "code",
   "execution_count": 21,
   "metadata": {
    "collapsed": false
   },
   "outputs": [
    {
     "name": "stdout",
     "output_type": "stream",
     "text": [
      "Train accuracy:\n",
      "0.815572139303\n",
      "Test accuracy:\n",
      "0.811717171717\n"
     ]
    }
   ],
   "source": [
    "print(\"Train accuracy:\")\n",
    "predictions = classify(X_train, digit_vectors)\n",
    "acc = accuracy_score(y_train[:X_train.shape[0]], predictions)\n",
    "print(acc)\n",
    "\n",
    "print(\"Test accuracy:\")\n",
    "X_test = get_scenes(X_test, proj)\n",
    "predictions = classify(X_test, digit_vectors)\n",
    "acc = accuracy_score(y_test[:X_test.shape[0]], predictions)\n",
    "print(acc)"
   ]
  }
 ],
 "metadata": {
  "kernelspec": {
   "display_name": "Python 2",
   "language": "python",
   "name": "python2"
  },
  "language_info": {
   "codemirror_mode": {
    "name": "ipython",
    "version": 2
   },
   "file_extension": ".py",
   "mimetype": "text/x-python",
   "name": "python",
   "nbconvert_exporter": "python",
   "pygments_lexer": "ipython2",
   "version": "2.7.12"
  }
 },
 "nbformat": 4,
 "nbformat_minor": 1
}
